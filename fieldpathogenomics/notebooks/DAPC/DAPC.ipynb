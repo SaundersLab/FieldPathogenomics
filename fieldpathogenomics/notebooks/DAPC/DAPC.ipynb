{
 "cells": [
  {
   "cell_type": "code",
   "execution_count": null,
   "metadata": {},
   "outputs": [],
   "source": [
    "##luigi-vars\n",
    "SNP_HD5 = ''\n",
    "TREE_NWK = ''\n",
    "MIN_COV = 0.8\n",
    "CLUSTER_MIN = 2\n",
    "N_CLUST = 2\n",
    "CLUSTER_MAX = 25\n",
    "MAX_LINKAGE=0.95"
   ]
  },
  {
   "cell_type": "markdown",
   "execution_count": null,
   "metadata": {},
   "outputs": [],
   "source": [
    "# DAPC Clustering"
   ]
  },
  {
   "cell_type": "code",
   "execution_count": null,
   "metadata": {
    "ExecuteTime": {
     "end_time": "2017-11-24T14:53:40.278289Z",
     "start_time": "2017-11-24T14:53:37.461082Z"
    }
   },
   "outputs": [],
   "source": [
    "import vcfnp\n",
    "import numpy as np\n",
    "import h5py\n",
    "import matplotlib as mpl\n",
    "import matplotlib.pyplot as plt\n",
    "\n",
    "import allel\n",
    "import seaborn as sns\n",
    "import pandas as pd\n",
    "\n",
    "from sklearn.discriminant_analysis import LinearDiscriminantAnalysis\n",
    "from sklearn.decomposition import PCA\n",
    "from sklearn.metrics import silhouette_score,calinski_harabaz_score\n",
    "from sklearn.cluster import KMeans\n",
    "from sklearn.preprocessing import scale\n",
    "\n",
    "%matplotlib inline\n",
    "sns.set_style('whitegrid')\n",
    "mpl.rcParams['figure.figsize'] = (10, 6)"
   ]
  },
  {
   "cell_type": "code",
   "execution_count": null,
   "metadata": {
    "ExecuteTime": {
     "end_time": "2017-11-24T14:53:40.280169Z",
     "start_time": "2017-11-24T14:53:37.828Z"
    }
   },
   "outputs": [],
   "source": [
    "def compute_bic_adegenet(km,X):\n",
    "    #number of clusters\n",
    "    k = km.n_clusters\n",
    "    #size of data set\n",
    "    N, d = X.shape\n",
    "\n",
    "    WSS = sum([np.sum((km.cluster_centers_[i] - X[km.predict(X)==i,:])**2 )\n",
    "                    for i in range(km.n_clusters)])\n",
    "\n",
    "    return(N*np.log(WSS/N) + k*np.log(N))\n",
    "\n",
    "def plot_ld(gn, title):\n",
    "    m = allel.stats.rogers_huff_r(gn) ** 2\n",
    "    ax = allel.plot.pairwise_ld(m)\n",
    "    ax.set_title(title)\n",
    "    return m"
   ]
  },
  {
   "cell_type": "markdown",
   "execution_count": null,
   "metadata": {},
   "outputs": [],
   "source": [
    "# Loading Biallelic SNPs"
   ]
  },
  {
   "cell_type": "code",
   "execution_count": null,
   "metadata": {},
   "outputs": [],
   "source": [
    "callset = h5py.File(SNP_HD5, mode='r')\n",
    "genotypes = allel.GenotypeChunkedArray(callset['calldata']['GT'])\n",
    "variants = allel.VariantChunkedTable(callset['variants'])\n",
    "samples = list(callset['samples'][:])"
   ]
  },
  {
   "cell_type": "code",
   "execution_count": null,
   "metadata": {},
   "outputs": [],
   "source": [
    "genotypes"
   ]
  },
  {
   "cell_type": "markdown",
   "execution_count": null,
   "metadata": {},
   "outputs": [],
   "source": [
    "# Filter Sites and Individuals\n"
   ]
  },
  {
   "cell_type": "code",
   "execution_count": null,
   "metadata": {},
   "outputs": [],
   "source": [
    "filtered = genotypes[(genotypes.count_missing(axis=1)[:]/genotypes.shape[1]) < (1 - MIN_COV), :]\n",
    "print(filtered.shape)\n",
    "filtered"
   ]
  },
  {
   "cell_type": "code",
   "execution_count": null,
   "metadata": {},
   "outputs": [],
   "source": [
    "n_alt = allel.AlleleCountsChunkedArray(filtered.to_n_alt(fill=-1))\n",
    "n_alt = np.where(n_alt == -1, np.array([float('nan')]),n_alt)\n",
    "n_alt = np.where(np.isnan(n_alt), \n",
    "                 np.nanmean(n_alt, axis=1).reshape(-1,1), \n",
    "                 n_alt)"
   ]
  },
  {
   "cell_type": "markdown",
   "execution_count": null,
   "metadata": {},
   "outputs": [],
   "source": [
    "# Linkage Disequllibrium"
   ]
  },
  {
   "cell_type": "code",
   "execution_count": null,
   "metadata": {},
   "outputs": [],
   "source": [
    "unlinked = n_alt[allel.locate_unlinked(n_alt, size=n_alt.shape[0], step=1, threshold=MAX_LINKAGE),:]\n",
    "print(\"Unlinking reduced the number of sites from {0} to {1}\".format(filtered.shape[0], unlinked.shape[0]))"
   ]
  },
  {
   "cell_type": "markdown",
   "execution_count": null,
   "metadata": {},
   "outputs": [],
   "source": [
    "# DAPC "
   ]
  },
  {
   "cell_type": "code",
   "execution_count": null,
   "metadata": {},
   "outputs": [],
   "source": [
    "n_pca1 = n_alt.shape[1]\n",
    "cluster_range = range(CLUSTER_MIN, CLUSTER_MAX)\n",
    "\n",
    "# Scale\n",
    "X = scale(unlinked.T, with_std=False, with_mean=True)\n",
    "\n",
    "#Permform PCA retaining all comps\n",
    "pca = PCA(n_pca1)\n",
    "Y = pca.fit_transform(X)\n",
    "cum_var = np.cumsum(pca.explained_variance_ratio_)\n",
    "plt.bar(np.arange(n_pca1), cum_var)\n",
    "n_pca2 = int(np.argwhere(cum_var > 0.95)[0])\n",
    "\n",
    "plt.vlines(n_pca2, 0, 1)\n",
    "plt.ylim((0,1))\n",
    "plt.xlabel(\"PCA Components\")\n",
    "plt.ylabel(\"Explained variance\")"
   ]
  },
  {
   "cell_type": "code",
   "execution_count": null,
   "metadata": {},
   "outputs": [],
   "source": [
    "# K-means clustering of the PCs\n",
    "km_list = [KMeans(int(i), tol=1e-7, max_iter=1e5, n_init=100).fit(Y) for i in cluster_range]"
   ]
  },
  {
   "cell_type": "markdown",
   "execution_count": null,
   "metadata": {},
   "outputs": [],
   "source": [
    "# K selection metrics"
   ]
  },
  {
   "cell_type": "code",
   "execution_count": null,
   "metadata": {},
   "outputs": [],
   "source": [
    "# Calinski Harabaz score\n",
    "ch = [calinski_harabaz_score(Y,km.predict(Y)) for km in km_list]\n",
    "\n",
    "# Silhouette Score\n",
    "sil = [silhouette_score(Y,km.predict(Y)) for km in km_list]\n",
    "\n",
    "# BIC\n",
    "bic = [compute_bic_adegenet(km,Y) for km in km_list]\n",
    "\n",
    "plt.figure(figsize=(24, 8))\n",
    "plt.subplot(131).plot(list(cluster_range), bic, '.-')\n",
    "plt.subplot(131).set_title(\"BIC\")\n",
    "\n",
    "sns.barplot(list(cluster_range), ch, ax=plt.subplot(132))\n",
    "plt.subplot(132).set_title(\"Calinski Harabaz score\")\n",
    "sns.barplot(list(cluster_range), sil, ax=plt.subplot(133))\n",
    "plt.subplot(133).set_title(\"Silhouette score\")\n",
    "\n",
    "plt.tight_layout()"
   ]
  },
  {
   "cell_type": "code",
   "execution_count": null,
   "metadata": {},
   "outputs": [],
   "source": [
    "lda = LinearDiscriminantAnalysis(solver='eigen', tol=1e-6,  shrinkage='auto')\n",
    "\n",
    "Z = PCA(n_pca2).fit_transform(X)\n",
    "lda.fit(Z, km_list[N_CLUST-CLUSTER_MIN].predict(Y))\n",
    "\n",
    "sns.barplot(list(range(len(lda.explained_variance_ratio_))), lda.explained_variance_ratio_**2)"
   ]
  },
  {
   "cell_type": "code",
   "execution_count": null,
   "metadata": {},
   "outputs": [],
   "source": [
    "plt.figure(figsize=(12,12))\n",
    "plt.scatter(x=lda.transform(Z)[:,0], y=lda.transform(Z)[:,1], c=[sns.color_palette(n_colors=10)[int(i)] for i in lda.predict(Z)], s=50,  marker='o')"
   ]
  },
  {
   "cell_type": "code",
   "execution_count": null,
   "metadata": {},
   "outputs": [],
   "source": [
    "df = pd.DataFrame(lda.predict_proba(Z))\n",
    "plt.gcf().set_size_inches(12, 4)\n",
    "df.plot(kind='bar',stacked=True)"
   ]
  },
  {
   "cell_type": "code",
   "execution_count": null,
   "metadata": {},
   "outputs": [],
   "source": [
    "groups = pd.DataFrame(np.stack([list(samples), lda.predict_proba(Z).argmax(axis=1)]).T, columns=['samples', 'group'])"
   ]
  },
  {
   "cell_type": "code",
   "execution_count": null,
   "metadata": {
    "ExecuteTime": {
     "end_time": "2017-11-24T15:00:06.818165Z",
     "start_time": "2017-11-24T15:00:06.618177Z"
    }
   },
   "outputs": [],
   "source": [
    "%load_ext rpy2.ipython"
   ]
  },
  {
   "cell_type": "code",
   "execution_count": null,
   "metadata": {},
   "outputs": [],
   "source": [
    "%%R -w1000 -h1000 -o svg -i groups -i TREE_NWK\n",
    "\n",
    "library(ggtree)\n",
    "library(ggplot2)\n",
    "library(dplyr)\n",
    "library(ape)\n",
    "\n",
    "tree <- di2multi(read.tree(TREE_NWK), 1e-5)\n",
    "p <- ggtree(tree, layout=\"rectangular\", ladderize=TRUE)\n",
    "d <- p$data\n",
    "\n",
    "# Append external data\n",
    "p <- p %<+% groups\n",
    "\n",
    "# Group labels\n",
    "p <-p + geom_point2(aes(color=group, subset=isTip ), size=1)\n",
    "p <- p + theme_tree2(legend.position='left')\n",
    "p"
   ]
  },
  {
   "cell_type": "code",
   "execution_count": null,
   "metadata": {},
   "outputs": [],
   "source": []
  },
  {
   "cell_type": "code",
   "execution_count": null,
   "metadata": {},
   "outputs": [],
   "source": []
  },
  {
   "cell_type": "code",
   "execution_count": null,
   "metadata": {},
   "outputs": [],
   "source": []
  },
  {
   "cell_type": "code",
   "execution_count": null,
   "metadata": {},
   "outputs": [],
   "source": []
  },
  {
   "cell_type": "code",
   "execution_count": null,
   "metadata": {},
   "outputs": [],
   "source": []
  }
 ],
 "metadata": {
  "kernelspec": {
   "display_name": "Python 3",
   "language": "python",
   "name": "python3"
  },
  "language_info": {
   "codemirror_mode": {
    "name": "ipython",
    "version": 3
   },
   "file_extension": ".py",
   "mimetype": "text/x-python",
   "name": "python",
   "nbconvert_exporter": "python",
   "pygments_lexer": "ipython3",
   "version": "3.5.0"
  }
 },
 "nbformat": 4,
 "nbformat_minor": 2
}
