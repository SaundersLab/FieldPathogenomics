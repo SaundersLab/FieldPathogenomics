{
 "cells": [
  {
   "cell_type": "code",
   "execution_count": null,
   "metadata": {
    "collapsed": true
   },
   "outputs": [],
   "source": [
    "##luigi-vars\n",
    "RAW_HD5 = 'default'"
   ]
  },
  {
   "cell_type": "code",
   "execution_count": null,
   "metadata": {
    "collapsed": true
   },
   "outputs": [],
   "source": [
    "import vcfnp\n",
    "import numpy as np\n",
    "import h5py\n",
    "import matplotlib.pyplot as plt\n",
    "import matplotlib as mpl\n",
    "import allel\n",
    "import seaborn as sns\n",
    "import pandas as pd\n",
    "from sklearn.mixture import GaussianMixture\n",
    "sns.set_style('white')\n",
    "%matplotlib inline"
   ]
  },
  {
   "cell_type": "code",
   "execution_count": null,
   "metadata": {
    "collapsed": false
   },
   "outputs": [],
   "source": [
    "callset = h5py.File(RAW_HD5, mode='r')\n",
    "calldata = callset['calldata']\n",
    "genotypes = allel.GenotypeChunkedArray(callset['calldata']['genotype'])\n",
    "samples = list(callset['samples'])\n",
    "variants = allel.VariantChunkedTable(callset['variants'])[:]\n",
    "df_variants = pd.DataFrame(np.array(variants))\n",
    "df_variants = df_variants.drop(df_variants.columns[np.all(df_variants == 0, axis=0)],axis=1)"
   ]
  },
  {
   "cell_type": "code",
   "execution_count": null,
   "metadata": {
    "collapsed": false
   },
   "outputs": [],
   "source": [
    "def hexbin(x, y, color, **kwargs):\n",
    "    cmap = sns.cubehelix_palette(n_colors=24, as_cmap=True, dark=0, light=1)\n",
    "    cmap.set_under('white')\n",
    "    cmap.set_bad('white')\n",
    "    plt.hexbin(x, y, gridsize=40, cmap=cmap, **kwargs)\n",
    "\n",
    "def hist(x, **kwargs):\n",
    "    sns.distplot(x, kde=False)\n",
    "    \n",
    "df_variants['logDP'] = np.log1p(df_variants['DP'])\n",
    "df_variants['SOR_clip'] = np.clip(df_variants['SOR'],a_max=6, a_min=0)\n",
    "df_variants['ReadPosRankSum_clip'] = np.clip(df_variants['ReadPosRankSum'],a_max=5, a_min=-5)\n",
    "\n",
    "\n",
    "g = sns.PairGrid(data=df_variants[df_variants.is_snp], \n",
    "                 x_vars=['QD', 'logDP', 'AF', 'SOR_clip', 'ReadPosRankSum_clip'], \n",
    "                 y_vars=['QD', 'logDP', 'AF', 'SOR_clip', 'ReadPosRankSum_clip'],\n",
    "                 size=4,\n",
    "                 diag_sharey=False)\n",
    "g.map_diag(hist)\n",
    "g.map_lower(hexbin)"
   ]
  },
  {
   "cell_type": "code",
   "execution_count": null,
   "metadata": {
    "collapsed": false
   },
   "outputs": [],
   "source": [
    "tot_gq = np.sum(calldata['GQ'][variants.is_snp,:], axis=1)\n",
    "tot_rgq = np.sum(calldata['RGQ'][~variants.is_snp,:], axis=1)\n",
    "\n",
    "fig, ax = plt.subplots(ncols=1,nrows=1)\n",
    "sns.distplot(tot_gq/variants[variants.is_snp]['DP'], kde=False, ax=ax[0])\n",
    "sns.distplot(tot_rgq/variants[~variants.is_snp]['DP'], kde=False, ax=ax[1])"
   ]
  },
  {
   "cell_type": "code",
   "execution_count": null,
   "metadata": {
    "collapsed": false
   },
   "outputs": [],
   "source": [
    "from collections import Counter\n",
    "P_dp = np.zeros((np.max(variants['DP'])+1))\n",
    "dp_count = Counter(variants['DP'])\n",
    "for k,v in dp_count.items():\n",
    "    P_dp[k] = v\n",
    "\n",
    "P_dp /= len(variants['DP'])\n",
    "plt.plot(P_dp, '.')\n",
    "plt.loglog()\n"
   ]
  }
 ],
 "metadata": {
  "kernelspec": {
   "display_name": "Python 3",
   "language": "python",
   "name": "python3"
  },
  "language_info": {
   "codemirror_mode": {
    "name": "ipython",
    "version": 3
   },
   "file_extension": ".py",
   "mimetype": "text/x-python",
   "name": "python",
   "nbconvert_exporter": "python",
   "pygments_lexer": "ipython3",
   "version": "3.5.0"
  }
 },
 "nbformat": 4,
 "nbformat_minor": 2
}
