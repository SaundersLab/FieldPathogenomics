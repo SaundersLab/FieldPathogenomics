{
 "cells": [
  {
   "cell_type": "code",
   "execution_count": null,
   "metadata": {
    "collapsed": true
   },
   "outputs": [],
   "source": [
    "##luigi-vars\n",
    "FILTERED_HD5 = 'default'"
   ]
  },
  {
   "cell_type": "code",
   "execution_count": null,
   "metadata": {
    "collapsed": true
   },
   "outputs": [],
   "source": [
    "import vcfnp\n",
    "import numpy as np\n",
    "import h5py\n",
    "import matplotlib.pyplot as plt\n",
    "import matplotlib as mpl\n",
    "import allel\n",
    "import seaborn as sns\n",
    "import pandas as pd\n",
    "from sklearn.mixture import GaussianMixture\n",
    "from collections import Counter\n",
    "\n",
    "sns.set_style('white')\n",
    "plt.rcParams['figure.figsize'] = (12,6)\n",
    "%matplotlib inline"
   ]
  },
  {
   "cell_type": "code",
   "execution_count": null,
   "metadata": {
    "collapsed": false
   },
   "outputs": [],
   "source": [
    "callset = h5py.File(Filtered_HD5, mode='r')\n",
    "calldata = callset['calldata']\n",
    "genotypes = allel.GenotypeChunkedArray(callset['calldata']['genotype'])\n",
    "samples = np.array([x.decode() for x in callset['samples']])\n",
    "variants = allel.VariantChunkedTable(callset['variants'])[:]\n",
    "df_variants = pd.DataFrame(np.array(variants))\n",
    "df_variants = df_variants.drop(df_variants.columns[np.all(df_variants == 0, axis=0)],axis=1)"
   ]
  },
  {
   "cell_type": "code",
   "execution_count": null,
   "metadata": {
    "collapsed": false
   },
   "outputs": [],
   "source": [
    "def plot_genotype_frequency(pc, title, ax=None, srt_idx=None):\n",
    "\n",
    "    if ax is None:\n",
    "        ax = plt.gca()\n",
    "        \n",
    "    left = np.arange(len(pc))\n",
    "    if srt_idx is None:\n",
    "        srt_idx = left\n",
    "        \n",
    "    sns.despine(ax=ax, offset=10)\n",
    "    \n",
    "    ax.barh(left, pc[srt_idx])\n",
    "    ax.set_ylabel('Sample')\n",
    "    ax.set_xlabel('Percent calls')\n",
    "    ax.set_title(title)\n",
    "    \n",
    "    ax.set_yticks(left+0.5)\n",
    "    ax.set_yticklabels(samples[srt_idx], rotation=0, size=8, va='center')\n",
    "\n",
    "fig, axs = plt.subplots(nrows=1, ncols=2)\n",
    "fig.set_size_inches((12, 18))\n",
    "\n",
    "n_variants = len(variants)\n",
    "pc_missing = genotypes.count_missing(axis=0)[:] * 100 / n_variants\n",
    "pc_het = genotypes.count_het(axis=0)[:] * 100 / n_variants\n",
    "called_per_site = len(samples) - genotypes.count_missing(axis=1)[:]\n",
    "\n",
    "plot_genotype_frequency(pc_missing, 'Missing', ax=axs[0], srt_idx=np.argsort(pc_missing)[::-1])\n",
    "plot_genotype_frequency(pc_het, 'Heterozygosity', ax=axs[1], srt_idx=np.argsort(pc_missing)[::-1])\n",
    "plt.tight_layout()"
   ]
  },
  {
   "cell_type": "code",
   "execution_count": 1,
   "metadata": {
    "collapsed": false
   },
   "outputs": [
    {
     "ename": "NameError",
     "evalue": "name 'Counter' is not defined",
     "output_type": "error",
     "traceback": [
      "\u001b[0;31m---------------------------------------------------------------------------\u001b[0m",
      "\u001b[0;31mNameError\u001b[0m                                 Traceback (most recent call last)",
      "\u001b[0;32m<ipython-input-1-27f25d06287d>\u001b[0m in \u001b[0;36m<module>\u001b[0;34m()\u001b[0m\n\u001b[1;32m      1\u001b[0m \u001b[0;34m\u001b[0m\u001b[0m\n\u001b[0;32m----> 2\u001b[0;31m \u001b[0mCounter\u001b[0m\u001b[0;34m(\u001b[0m\u001b[0mdf_variants\u001b[0m\u001b[0;34m[\u001b[0m\u001b[0;34m'num_alleles'\u001b[0m\u001b[0;34m]\u001b[0m\u001b[0;34m)\u001b[0m\u001b[0;34m\u001b[0m\u001b[0m\n\u001b[0m",
      "\u001b[0;31mNameError\u001b[0m: name 'Counter' is not defined"
     ]
    }
   ],
   "source": [
    "Counter(df_variants['num_alleles'])"
   ]
  },
  {
   "cell_type": "code",
   "execution_count": null,
   "metadata": {
    "collapsed": true
   },
   "outputs": [],
   "source": []
  }
 ],
 "metadata": {
  "kernelspec": {
   "display_name": "Python 3",
   "language": "python",
   "name": "python3"
  },
  "language_info": {
   "codemirror_mode": {
    "name": "ipython",
    "version": 3
   },
   "file_extension": ".py",
   "mimetype": "text/x-python",
   "name": "python",
   "nbconvert_exporter": "python",
   "pygments_lexer": "ipython3",
   "version": "3.5.0"
  }
 },
 "nbformat": 4,
 "nbformat_minor": 2
}
