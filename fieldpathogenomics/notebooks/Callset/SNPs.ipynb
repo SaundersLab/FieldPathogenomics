{
 "cells": [
  {
   "cell_type": "code",
   "execution_count": null,
   "metadata": {
    "collapsed": true
   },
   "outputs": [],
   "source": [
    "##luigi-vars\n",
    "SNPS_HD5 = 'default'"
   ]
  },
  {
   "cell_type": "code",
   "execution_count": null,
   "metadata": {
    "collapsed": false
   },
   "outputs": [],
   "source": [
    "import vcfnp\n",
    "import numpy as np\n",
    "import h5py\n",
    "import matplotlib.pyplot as plt\n",
    "import matplotlib as mpl\n",
    "import allel\n",
    "import seaborn as sns\n",
    "import pandas as pd\n",
    "from sklearn.mixture import GaussianMixture\n",
    "from matplotlib.backends.backend_pdf import PdfPages\n",
    "\n",
    "plt.rcParams['figure.figsize'] = (12,6)\n",
    "%matplotlib inline"
   ]
  },
  {
   "cell_type": "code",
   "execution_count": null,
   "metadata": {
    "collapsed": false
   },
   "outputs": [],
   "source": [
    "callset = h5py.File(SNPS_HD5, mode='r')\n",
    "calldata = callset['calldata']\n",
    "genotypes = allel.GenotypeChunkedArray(callset['calldata']['GT'])\n",
    "samples = list(callset['samples'])\n",
    "variants = allel.VariantChunkedTable(callset['variants'])[:]\n",
    "\n",
    "called = np.where(genotypes.is_called(),'.','+')\n",
    "het = np.where(genotypes.is_called(), np.where(genotypes.is_het(),'green','red'), 'black')\n",
    "\n",
    "cov = np.logical_and(np.logical_and(calldata['DP'][:] != 0, \n",
    "                                    genotypes.is_called()[:]), \n",
    "                                    genotypes.is_het()[:])\n",
    "DP = calldata['DP']\n"
   ]
  },
  {
   "cell_type": "code",
   "execution_count": null,
   "metadata": {
    "collapsed": false
   },
   "outputs": [],
   "source": [
    "# Sort the alleles by depth\n",
    "sort = np.sort(calldata['AD'], axis=-1)[:,:,::-1]\n",
    "third = np.sum(sort[:,:,2:] ,axis=-1)\n",
    "AD = np.concatenate((sort[:,:,:2], third[:,:,None]), axis=2)"
   ]
  },
  {
   "cell_type": "code",
   "execution_count": null,
   "metadata": {
    "collapsed": false
   },
   "outputs": [],
   "source": [
    "def BIC_ratio(AF, plot=False, ax=None):\n",
    "    '''Fit a 1 and 3 component GMM to the AF and compare the BIC values'''\n",
    "    AF = AF.reshape((-1,1))\n",
    "    gmm = [GaussianMixture(i).fit(AF) for i in [1,3]]\n",
    "    bic = [x.bic(AF) for x in gmm]\n",
    "    x = np.linspace(0,1, 100)\n",
    "    if plot:\n",
    "        if ax is None:\n",
    "            plt.figure()\n",
    "            ax = plt.gca()     \n",
    "        ax.plot(x, np.exp(gmm[0].score_samples(x.reshape(-1,1))) )\n",
    "        ax.plot(x, np.exp(gmm[1].score_samples(x.reshape(-1,1))) )\n",
    "        ax.hist(AF, bins=100, normed=True);\n",
    "        plt.xlabel(\"Site Allele Frequency\")\n",
    "    return bic[0]/bic[1]"
   ]
  },
  {
   "cell_type": "code",
   "execution_count": null,
   "metadata": {
    "collapsed": false
   },
   "outputs": [],
   "source": [
    "!mkdir QC"
   ]
  },
  {
   "cell_type": "code",
   "execution_count": null,
   "metadata": {
    "collapsed": false
   },
   "outputs": [],
   "source": [
    "# Plots all of the allele frequencies and the BIC ratios\n",
    "pp = PdfPages(\"QC/allele_freq.pdf\")\n",
    "br = np.zeros_like(samples, dtype=np.float)\n",
    "for i, s in enumerate(samples):\n",
    "    X = AD[cov[:,i],i,:2]/DP[:][cov[:,i],i,None]\n",
    "    br[i] = BIC_ratio(X, plot=True)\n",
    "    plt.title(\"{0}\\nBR = {1:.3}\".format(s,br[i]))\n",
    "    pp.savefig()\n",
    "    plt.close()\n",
    "pp.close()"
   ]
  },
  {
   "cell_type": "code",
   "execution_count": null,
   "metadata": {
    "collapsed": false,
    "scrolled": false
   },
   "outputs": [],
   "source": [
    "nrows=int(len(samples)/4)+1\n",
    "br = np.zeros_like(samples, dtype=np.float)\n",
    "fig, ax_list = plt.subplots(ncols=4, nrows=nrows, sharex=True, sharey=True)\n",
    "fig.set_size_inches((12, nrows*1.5))\n",
    "for i, s in enumerate(samples):\n",
    "    X = AD[cov[:,i],i,:2]/DP[:][cov[:,i],i,None]\n",
    "    br[i] = BIC_ratio(X, plot=True, ax=ax_list.flat[i])\n",
    "    ax_list.flat[i].set_title(\"{0}\\nBR = {1:.3}\".format(s,br[i]))"
   ]
  },
  {
   "cell_type": "code",
   "execution_count": null,
   "metadata": {
    "collapsed": true
   },
   "outputs": [],
   "source": []
  },
  {
   "cell_type": "code",
   "execution_count": null,
   "metadata": {
    "collapsed": false
   },
   "outputs": [],
   "source": [
    "sns.barplot(x=[s for s in samples], y=br)\n",
    "plt.xticks(rotation=90);\n",
    "plt.title(\"BIC(n=1)/BIC(n=3)\")"
   ]
  },
  {
   "cell_type": "code",
   "execution_count": null,
   "metadata": {
    "collapsed": false
   },
   "outputs": [],
   "source": [
    "nrows=int(len(samples)/4)+1\n",
    "br = np.zeros_like(samples, dtype=np.float)\n",
    "fig, ax_list = plt.subplots(ncols=4, nrows=nrows, sharex=True, sharey=True)\n",
    "fig.set_size_inches((12, nrows*3))\n",
    "\n",
    "for i, s in enumerate(samples):\n",
    "    ax = ax_list.flat[i]\n",
    "    ax.set_title(s)\n",
    "    ax.scatter(AD[cov[:,i],i,0], AD[cov[:,i],i,1], alpha=0.1 )\n",
    "    ax.set_xscale('log')\n",
    "    ax.set_yscale('log')\n",
    "    ax.set_xlim((1e0,1e4))\n",
    "    ax.set_ylim((1e0,1e4))\n",
    "\n",
    "plt.ylabel('Rank 2 AD')\n",
    "plt.xlabel(\"Rank 1 AD\")\n"
   ]
  },
  {
   "cell_type": "code",
   "execution_count": null,
   "metadata": {
    "collapsed": false
   },
   "outputs": [],
   "source": []
  },
  {
   "cell_type": "code",
   "execution_count": null,
   "metadata": {
    "collapsed": true
   },
   "outputs": [],
   "source": []
  },
  {
   "cell_type": "code",
   "execution_count": null,
   "metadata": {
    "collapsed": false
   },
   "outputs": [],
   "source": []
  },
  {
   "cell_type": "code",
   "execution_count": null,
   "metadata": {
    "collapsed": false
   },
   "outputs": [],
   "source": []
  },
  {
   "cell_type": "code",
   "execution_count": null,
   "metadata": {
    "collapsed": false
   },
   "outputs": [],
   "source": []
  },
  {
   "cell_type": "code",
   "execution_count": null,
   "metadata": {
    "collapsed": true
   },
   "outputs": [],
   "source": []
  }
 ],
 "metadata": {
  "kernelspec": {
   "display_name": "Python 3",
   "language": "python",
   "name": "python3"
  },
  "language_info": {
   "codemirror_mode": {
    "name": "ipython",
    "version": 3
   },
   "file_extension": ".py",
   "mimetype": "text/x-python",
   "name": "python",
   "nbconvert_exporter": "python",
   "pygments_lexer": "ipython3",
   "version": "3.5.0"
  }
 },
 "nbformat": 4,
 "nbformat_minor": 2
}
